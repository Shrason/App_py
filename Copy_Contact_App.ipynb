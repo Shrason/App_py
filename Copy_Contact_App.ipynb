{
  "cells": [
    {
      "cell_type": "markdown",
      "metadata": {
        "id": "view-in-github",
        "colab_type": "text"
      },
      "source": [
        "<a href=\"https://colab.research.google.com/github/Shrason/App_py/blob/main/Copy_Contact_App.ipynb\" target=\"_parent\"><img src=\"https://colab.research.google.com/assets/colab-badge.svg\" alt=\"Open In Colab\"/></a>"
      ]
    },
    {
      "cell_type": "markdown",
      "metadata": {
        "id": "lpy6exvkqSPA"
      },
      "source": [
        "# Contact app\n",
        "\n",
        "\n",
        "Lets get started!\n",
        "\n",
        "Features that contact app has . . . !\n",
        "- It can show you all the contact names\n",
        "- You can search for contacts (using name)\n",
        "- You can see all the information associated with the contact\n",
        "- You can delete and update contacts\n",
        "\n",
        "Contact app should have at least these features.\n",
        "- The app should show us all the contact names\n",
        "- It should allow us to select a contact and view all the information associated with the contact\n",
        "- It should allow us to update contact info & delete contact\n",
        "- Finally, it should show us all the contact names\n",
        "\n",
        "For every contact, we will store the `name`, `number` & `email`."
      ]
    },
    {
      "cell_type": "markdown",
      "metadata": {
        "id": "nbheMIT9qSPD"
      },
      "source": [
        "### Data Structure\n",
        "The very first thing that we need to decide is \"What data structure to use?\"\n",
        "\n",
        "To store all the contacts, we can use a list of dictionaries; were each dictionary stores the `name`, `number` & `email`  of the contact.\n",
        "\n",
        "Create a list of dictionaries called `contacts` with 3 dummy contacts.  "
      ]
    },
    {
      "cell_type": "code",
      "execution_count": null,
      "metadata": {
        "id": "pNu71vc7qSPE"
      },
      "outputs": [],
      "source": [
        "contacts = [{'name':'mayur','number':9876543210,'email':'mayur@gmail.com'},\n",
        "            {'name':'harsh','number':9876543210,'email':'harsh@gmail.com'},\n",
        "            {'name':'raj','number':9876543210,'email':'raj@gmail.com'}]"
      ]
    },
    {
      "cell_type": "code",
      "execution_count": null,
      "metadata": {
        "id": "ZUvPrqroi7jM",
        "outputId": "7cf2c1ed-328f-4744-92e0-5c84e782b79b"
      },
      "outputs": [
        {
          "data": {
            "text/plain": [
              "'mayur'"
            ]
          },
          "execution_count": 3,
          "metadata": {},
          "output_type": "execute_result"
        }
      ],
      "source": [
        "contacts[0]['name']"
      ]
    },
    {
      "cell_type": "markdown",
      "metadata": {
        "id": "10AQi11zqSPF"
      },
      "source": [
        "### List all contact names\n",
        "Write `show_contacts` function that takes the `contacts` list and prints all the contact names. These names will help us to select the contact later."
      ]
    },
    {
      "cell_type": "code",
      "execution_count": null,
      "metadata": {
        "id": "1qZ_WXd0qSPF"
      },
      "outputs": [],
      "source": [
        "def show_contacts(contacts):\n",
        "    for i in contacts:\n",
        "        print(i)"
      ]
    },
    {
      "cell_type": "code",
      "execution_count": null,
      "metadata": {
        "id": "-bJ5GqPrqSPF",
        "outputId": "d98166a7-a684-4571-9788-4b645a6e26cc"
      },
      "outputs": [
        {
          "name": "stdout",
          "output_type": "stream",
          "text": [
            "{'name': 'mayur', 'number': 9876543210, 'email': 'mayur@gmail.com'}\n",
            "{'name': 'harsh', 'number': 9876543210, 'email': 'harsh@gmail.com'}\n",
            "{'name': 'raj', 'number': 9876543210, 'email': 'raj@gmail.com'}\n"
          ]
        }
      ],
      "source": [
        "show_contacts(contacts)"
      ]
    },
    {
      "cell_type": "markdown",
      "metadata": {
        "id": "L6HZOLzVqSPG"
      },
      "source": [
        "### Add a new Contact\n",
        "\n",
        "Write `add_contact` function that takes user input and *adds new contact* dictionary to the existing list of `contacts`."
      ]
    },
    {
      "cell_type": "code",
      "execution_count": null,
      "metadata": {
        "id": "wEMcVlDgqSPG"
      },
      "outputs": [],
      "source": [
        "def add_contact(contacts,n):\n",
        "    name=input(\"Enter your name\")\n",
        "    mobile=str(input(\"Enter your number: \"))\n",
        "    email=input(\"Enter your email\")\n",
        "    contacts.append({'name':name,'number':mobile,'email':email})"
      ]
    },
    {
      "cell_type": "code",
      "execution_count": null,
      "metadata": {
        "id": "b79ttUpLqSPG"
      },
      "outputs": [],
      "source": [
        "add_contact(contacts,4)"
      ]
    },
    {
      "cell_type": "markdown",
      "metadata": {
        "id": "zYvPAkiZqSPG"
      },
      "source": [
        "### Delete Contact\n",
        "\n",
        "Write `delete_contact` function to delete an existing contact by providing `name` of the contact which we want to delete."
      ]
    },
    {
      "cell_type": "code",
      "execution_count": null,
      "metadata": {
        "id": "llefzrp6qSPG"
      },
      "outputs": [],
      "source": [
        "def delete_contact(contacts, name):\n",
        "    for i,j in enumerate (contacts):\n",
        "        if j['name']== name:\n",
        "            del contacts[i]\n",
        ""
      ]
    },
    {
      "cell_type": "code",
      "source": [
        "name = ''\n",
        "delete_contact(contacts, name)"
      ],
      "metadata": {
        "id": "P7LTBvYOm_0-"
      },
      "execution_count": null,
      "outputs": []
    },
    {
      "cell_type": "markdown",
      "metadata": {
        "id": "ar4BuRtcqSPG"
      },
      "source": [
        "### Update Contact details\n",
        "\n",
        "Let's write `update_contact` function which will *update contact details* such as `name`, `email` & `number`.\n",
        "The functions should take `contacts` and `name` as arguments. It should also print the newly added contact."
      ]
    },
    {
      "cell_type": "code",
      "execution_count": null,
      "metadata": {
        "id": "jvhcQwu0qSPH"
      },
      "outputs": [],
      "source": [
        "def update_contact(contacts, name):\n",
        "    for i,j in enumerate(contacts):\n",
        "        if j['name']== name:\n",
        "            name=input()\n",
        "            mobile=str(input())\n",
        "            email=input()\n",
        "            contacts[i]['name'] = name\n",
        "            contacts[i]['number'] = mobile\n",
        "            contacts[i]['email'] = email"
      ]
    },
    {
      "cell_type": "code",
      "execution_count": null,
      "metadata": {
        "id": "WIuZjyR2qSPH"
      },
      "outputs": [],
      "source": [
        "name = ''\n",
        "update_contact(contacts, name)"
      ]
    },
    {
      "cell_type": "markdown",
      "metadata": {
        "id": "LkRflzGLqSPH"
      },
      "source": [
        "### Open Contact\n",
        "`open_contact` function takes the `contacts` list and a `name` string as input. It prints the contact details if `name` matches some contact name in the `contacts` list, else prints `No match found!`.\n",
        "\n",
        "**Note:** The functions should be case insensitive."
      ]
    },
    {
      "cell_type": "code",
      "execution_count": null,
      "metadata": {
        "id": "RUeQPKeyqSPH"
      },
      "outputs": [],
      "source": [
        "def open_contact(contacts, name):\n",
        "    for i in contacts:\n",
        "        if i['name']== name:\n",
        "            print(i)\n",
        "    if i['name'] != name:\n",
        "        print(\"NO match\")"
      ]
    },
    {
      "cell_type": "code",
      "execution_count": null,
      "metadata": {
        "id": "DCgfLDDxqSPH"
      },
      "outputs": [],
      "source": [
        "name = ''\n",
        "open_contact(contacts, name)"
      ]
    },
    {
      "cell_type": "markdown",
      "metadata": {
        "id": "qLAzIkoTqSPH"
      },
      "source": [
        "We often see *update* & *delete* options after we open a particular contact. It would be great if we can also implement the same.\n",
        "\n",
        "After opening the contact, the program should wait for user input. The user can press `u` to update & `d` delete contact. Any other key press should be ignored\n",
        "\n",
        "Write the updated `open_contact` function below"
      ]
    },
    {
      "cell_type": "code",
      "execution_count": null,
      "metadata": {
        "id": "uh-Ug5VmqSPH"
      },
      "outputs": [],
      "source": [
        "def open_contact(contacts, name):\n",
        "    for i in contacts:\n",
        "        if i['name']== name:\n",
        "            update=input()\n",
        "            if update=='u':\n",
        "                update_contact(contacts, name)\n",
        "            elif update=='d':\n",
        "                delete_contact(contacts, name)"
      ]
    },
    {
      "cell_type": "code",
      "execution_count": null,
      "metadata": {
        "id": "Aun_0jHzqSPH"
      },
      "outputs": [],
      "source": [
        "name = ''\n",
        "open_contact(contacts, name)"
      ]
    },
    {
      "cell_type": "markdown",
      "metadata": {
        "id": "MVC9CA67qSPI"
      },
      "source": [
        "### Complete application (using all the above functions in use)\n",
        "\n",
        "We will use an infinite loop to encapsulate our application logic and break only when `q` is pressed. We will use `clear_output()` function from `IPython.display` to clear the output before printing anything new.\n",
        "\n",
        "Below is the pseudo-code to help you build the application logic."
      ]
    },
    {
      "cell_type": "code",
      "execution_count": null,
      "metadata": {
        "id": "K-5oMGwTqSPI"
      },
      "outputs": [],
      "source": [
        "from IPython.display import clear_output\n",
        "\n",
        "contacts = [{'name':'mayur','number':9876543210,'email':'mayur@gmail.com'},\n",
        "            {'name':'harsh','number':9876543210,'email':'harsh@gmail.com'},\n",
        "            {'name':'raj','number':9876543210,'email':'raj@gmail.com'}]\n",
        "\n",
        "def show_contacts(contacts):\n",
        "    for i in contacts:\n",
        "        print('\\n', i)\n",
        "\n",
        "\n",
        "def add_contact(contacts):\n",
        "    name=input(\"Enter your name: \")\n",
        "    mobile=str(input(\"Enter your number: \"))\n",
        "    email=input(\"Enter your Email: \")\n",
        "    contacts.append({'name':name,'number':mobile,'email':email})\n",
        "\n",
        "\n",
        "def open_contact(contacts):\n",
        "    name=input(\"Enter your name to open: \" )\n",
        "    for i in contacts:\n",
        "        if i['name']== name:\n",
        "            print(i)\n",
        "\n",
        "\n",
        "def update_contact(contacts):\n",
        "    name=input(\"Enter your name for update: \" )\n",
        "    if contacts['name']== name:\n",
        "        for i,j in enumerate(contacts):\n",
        "\n",
        "           name=input(\"Enter Your Name: \")\n",
        "           mobile=str(input(\"Enter your number: \"))\n",
        "           email=input(\"Enter your Email: \")\n",
        "           contacts[i]['name']=name\n",
        "           contacts[i]['number']=mobile\n",
        "           contacts[i]['email']=email\n",
        "\n",
        "def delete_contact(contacts):\n",
        "    name=input(\"Enter your name for delet: \" )\n",
        "    for i,j in enumerate (contacts):\n",
        "        if j['name']==name:\n",
        "            del contacts[i]\n",
        "\n",
        "\n",
        "while True:\n",
        "    action = input(\"Press 'a' - add contact, 'o' - open contact, 'u' - update cotact, 'd' - delet contact, 'q' - quit\")\n",
        "\n",
        "    if action == 'a':\n",
        "        add_contact(contacts)\n",
        "        show_contacts(contacts)\n",
        "        break\n",
        "\n",
        "    elif action == 'o':\n",
        "        open_contact(contacts)\n",
        "        break\n",
        "\n",
        "\n",
        "    elif action == 'u':\n",
        "        update_contact(contacts)\n",
        "        show_contacts(contacts)\n",
        "        break\n",
        "\n",
        "    elif action == 'd':\n",
        "        delete_contact(contacts)\n",
        "        show_contacts(contacts)\n",
        "        break\n",
        "\n",
        "    elif action == 'q':\n",
        "        break\n",
        "\n",
        "    else:\n",
        "        print( 'incorrect choice')"
      ]
    }
  ],
  "metadata": {
    "colab": {
      "provenance": [],
      "include_colab_link": true
    },
    "kernelspec": {
      "display_name": "Python 3",
      "language": "python",
      "name": "python3"
    },
    "language_info": {
      "codemirror_mode": {
        "name": "ipython",
        "version": 3
      },
      "file_extension": ".py",
      "mimetype": "text/x-python",
      "name": "python",
      "nbconvert_exporter": "python",
      "pygments_lexer": "ipython3",
      "version": "3.9.6"
    },
    "toc": {
      "base_numbering": 1,
      "nav_menu": {},
      "number_sections": true,
      "sideBar": true,
      "skip_h1_title": false,
      "title_cell": "Table of Contents",
      "title_sidebar": "Contents",
      "toc_cell": false,
      "toc_position": {},
      "toc_section_display": true,
      "toc_window_display": false
    }
  },
  "nbformat": 4,
  "nbformat_minor": 0
}